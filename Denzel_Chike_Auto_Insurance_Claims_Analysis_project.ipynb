{
  "nbformat": 4,
  "nbformat_minor": 0,
  "metadata": {
    "colab": {
      "provenance": []
    },
    "kernelspec": {
      "name": "python3",
      "display_name": "Python 3"
    },
    "language_info": {
      "name": "python"
    }
  },
  "cells": [
    {
      "cell_type": "markdown",
      "source": [
        "# **Objective: Analyze auto insurance claims data to assess risk, detect fraud, and optimize profitability.**"
      ],
      "metadata": {
        "id": "l5BBkYb1cqJq"
      }
    },
    {
      "cell_type": "markdown",
      "source": [
        "By: Denzel Chike"
      ],
      "metadata": {
        "id": "XiNI7Gx9LYDT"
      }
    },
    {
      "cell_type": "markdown",
      "source": [
        "Key Questions to Answer:\n",
        "1. What factors increase the likelihood of a claim?\n",
        "2. Can we identify fraudulent claims?\n",
        "3. How do claim amounts vary by customer segments?"
      ],
      "metadata": {
        "id": "SRTxCnHKclzP"
      }
    },
    {
      "cell_type": "code",
      "source": [
        "import pandas as pd\n",
        "import matplotlib.pyplot as plt\n",
        "import seaborn as sns\n",
        "import numpy as np\n",
        "from sklearn.preprocessing import StandardScaler\n",
        "from sklearn.linear_model import LogisticRegression\n",
        "from sklearn.model_selection import train_test_split\n",
        "from sklearn.ensemble import IsolationForest\n",
        "\n"
      ],
      "metadata": {
        "id": "KnXAVcxQaWY8"
      },
      "execution_count": null,
      "outputs": []
    },
    {
      "cell_type": "markdown",
      "source": [
        "##Load Dataset"
      ],
      "metadata": {
        "id": "VTZzb3Lulbs5"
      }
    },
    {
      "cell_type": "code",
      "source": [
        "df = pd.read_csv('/content/AutoInsuranceClaims2024.csv')\n",
        "print(df.head())"
      ],
      "metadata": {
        "id": "hscYLt8Agky2",
        "colab": {
          "base_uri": "https://localhost:8080/"
        },
        "outputId": "e9fda33b-0ba7-4a0b-ca66-0222d2aa5f4d"
      },
      "execution_count": null,
      "outputs": [
        {
          "output_type": "stream",
          "name": "stdout",
          "text": [
            "  Customer       State  Customer Lifetime Value Response  Coverage  \\\n",
            "0  QC35222  California                  3622.69       No     Basic   \n",
            "1  AE98193  Washington                 10610.21       No     Basic   \n",
            "2  TM23514      Oregon                 13868.02       No  Extended   \n",
            "3  WB38524  California                  4008.95       No     Basic   \n",
            "4  QZ42725  Washington                  3119.69       No     Basic   \n",
            "\n",
            "   Coverage Index             Education  Education Index Effective To Date  \\\n",
            "0               0              Bachelor                2          1/1/2024   \n",
            "1               0  High School or Below                0          1/1/2024   \n",
            "2               1               College                1          1/1/2024   \n",
            "3               0  High School or Below                0          1/1/2024   \n",
            "4               0              Bachelor                2          1/1/2024   \n",
            "\n",
            "  Employment Status  ...        Policy Policy Index  Renew Offer Type  \\\n",
            "0          Employed  ...  Corporate L2            4                 3   \n",
            "1        Unemployed  ...   Personal L1            0                 1   \n",
            "2          Employed  ...   Personal L3            2                 3   \n",
            "3          Employed  ...   Personal L3            2                 2   \n",
            "4        Unemployed  ...   Personal L3            2                 2   \n",
            "\n",
            "  Sales Channel  Sales Channel Index Total Claim Amount  Vehicle Class  \\\n",
            "0           Web                    0             380.90  Four-Door Car   \n",
            "1        Branch                    1            1098.36            SUV   \n",
            "2           Web                    0             783.64            SUV   \n",
            "3        Branch                    1             479.52   Two-Door Car   \n",
            "4         Agent                    2             622.08  Four-Door Car   \n",
            "\n",
            "   Vehicle Class Index  Vehicle Size  Vehicle Size Index  \n",
            "0                    1       Medsize                   1  \n",
            "1                    4       Medsize                   1  \n",
            "2                    4       Medsize                   1  \n",
            "3                    0         Small                   0  \n",
            "4                    1       Medsize                   1  \n",
            "\n",
            "[5 rows x 34 columns]\n"
          ]
        }
      ]
    },
    {
      "cell_type": "markdown",
      "source": [
        "##Dataset Info"
      ],
      "metadata": {
        "id": "3Kjsx8nwlYNi"
      }
    },
    {
      "cell_type": "code",
      "source": [
        "print(df.info())"
      ],
      "metadata": {
        "colab": {
          "base_uri": "https://localhost:8080/"
        },
        "id": "thGurXq7eNyj",
        "outputId": "756721e2-c801-4309-8e23-89262035d5aa"
      },
      "execution_count": null,
      "outputs": [
        {
          "output_type": "stream",
          "name": "stdout",
          "text": [
            "<class 'pandas.core.frame.DataFrame'>\n",
            "RangeIndex: 9134 entries, 0 to 9133\n",
            "Data columns (total 34 columns):\n",
            " #   Column                         Non-Null Count  Dtype  \n",
            "---  ------                         --------------  -----  \n",
            " 0   Customer                       9134 non-null   object \n",
            " 1   State                          9134 non-null   object \n",
            " 2   Customer Lifetime Value        9134 non-null   float64\n",
            " 3   Response                       9134 non-null   object \n",
            " 4   Coverage                       9134 non-null   object \n",
            " 5   Coverage Index                 9134 non-null   int64  \n",
            " 6   Education                      9134 non-null   object \n",
            " 7   Education Index                9134 non-null   int64  \n",
            " 8   Effective To Date              9134 non-null   object \n",
            " 9   Employment Status              9134 non-null   object \n",
            " 10  Employment Status Index        9134 non-null   int64  \n",
            " 11  Gender                         9134 non-null   object \n",
            " 12  Income                         9134 non-null   int64  \n",
            " 13  Location                       9134 non-null   object \n",
            " 14  Location Index                 9134 non-null   int64  \n",
            " 15  Marital Status                 9134 non-null   object \n",
            " 16  Marital Status Index           9134 non-null   int64  \n",
            " 17  Monthly Premium Auto           9134 non-null   int64  \n",
            " 18  Months Since Last Claim        9134 non-null   int64  \n",
            " 19  Months Since Policy Inception  9134 non-null   int64  \n",
            " 20  Number of Open Complaints      9134 non-null   int64  \n",
            " 21  Number of Policies             9134 non-null   int64  \n",
            " 22  Policy Type                    9134 non-null   object \n",
            " 23  Policy Type Index              9134 non-null   int64  \n",
            " 24  Policy                         9134 non-null   object \n",
            " 25  Policy Index                   9134 non-null   int64  \n",
            " 26  Renew Offer Type               9134 non-null   int64  \n",
            " 27  Sales Channel                  9134 non-null   object \n",
            " 28  Sales Channel Index            9134 non-null   int64  \n",
            " 29  Total Claim Amount             9134 non-null   float64\n",
            " 30  Vehicle Class                  9134 non-null   object \n",
            " 31  Vehicle Class Index            9134 non-null   int64  \n",
            " 32  Vehicle Size                   9134 non-null   object \n",
            " 33  Vehicle Size Index             9134 non-null   int64  \n",
            "dtypes: float64(2), int64(17), object(15)\n",
            "memory usage: 2.4+ MB\n",
            "None\n"
          ]
        }
      ]
    },
    {
      "cell_type": "markdown",
      "source": [
        "##Number of Columns and Rows"
      ],
      "metadata": {
        "id": "5Gb2m3MhlRfr"
      }
    },
    {
      "cell_type": "code",
      "source": [
        "df.shape"
      ],
      "metadata": {
        "colab": {
          "base_uri": "https://localhost:8080/"
        },
        "id": "cG87jmAafA-P",
        "outputId": "2da80fd2-cbe3-41d3-8351-1bb5651c69d0"
      },
      "execution_count": null,
      "outputs": [
        {
          "output_type": "execute_result",
          "data": {
            "text/plain": [
              "(9134, 34)"
            ]
          },
          "metadata": {},
          "execution_count": 13
        }
      ]
    },
    {
      "cell_type": "markdown",
      "source": [
        "##Checking for Missing Values"
      ],
      "metadata": {
        "id": "RLFFeMI5lNvF"
      }
    },
    {
      "cell_type": "code",
      "source": [
        "print(df.isnull().sum())"
      ],
      "metadata": {
        "colab": {
          "base_uri": "https://localhost:8080/"
        },
        "id": "nLa7rIi-kRBy",
        "outputId": "cb54e469-66e8-4899-b1d8-7c61e2bb4284"
      },
      "execution_count": null,
      "outputs": [
        {
          "output_type": "stream",
          "name": "stdout",
          "text": [
            "Customer                         0\n",
            "State                            0\n",
            "Customer Lifetime Value          0\n",
            "Response                         0\n",
            "Coverage                         0\n",
            "Coverage Index                   0\n",
            "Education                        0\n",
            "Education Index                  0\n",
            "Effective To Date                0\n",
            "Employment Status                0\n",
            "Employment Status Index          0\n",
            "Gender                           0\n",
            "Income                           0\n",
            "Location                         0\n",
            "Location Index                   0\n",
            "Marital Status                   0\n",
            "Marital Status Index             0\n",
            "Monthly Premium Auto             0\n",
            "Months Since Last Claim          0\n",
            "Months Since Policy Inception    0\n",
            "Number of Open Complaints        0\n",
            "Number of Policies               0\n",
            "Policy Type                      0\n",
            "Policy Type Index                0\n",
            "Policy                           0\n",
            "Policy Index                     0\n",
            "Renew Offer Type                 0\n",
            "Sales Channel                    0\n",
            "Sales Channel Index              0\n",
            "Total Claim Amount               0\n",
            "Vehicle Class                    0\n",
            "Vehicle Class Index              0\n",
            "Vehicle Size                     0\n",
            "Vehicle Size Index               0\n",
            "dtype: int64\n"
          ]
        }
      ]
    },
    {
      "cell_type": "markdown",
      "source": [
        "##Summary Statistics"
      ],
      "metadata": {
        "id": "6o5VcV_TlG6T"
      }
    },
    {
      "cell_type": "code",
      "source": [
        "print(df.describe())"
      ],
      "metadata": {
        "colab": {
          "base_uri": "https://localhost:8080/"
        },
        "id": "gKq48wH7khCX",
        "outputId": "9b8c9af5-8e93-4e94-acd0-e0f6eedd3b92"
      },
      "execution_count": null,
      "outputs": [
        {
          "output_type": "stream",
          "name": "stdout",
          "text": [
            "       Customer Lifetime Value  Coverage Index  Education Index  \\\n",
            "count              9134.000000     9134.000000      9134.000000   \n",
            "mean              10806.669619        0.480622         1.288373   \n",
            "std                9275.806257        0.655817         1.079984   \n",
            "min                2562.310000        0.000000         0.000000   \n",
            "25%                5392.237500        0.000000         0.000000   \n",
            "50%                7803.250000        0.000000         1.000000   \n",
            "75%               12098.922500        1.000000         2.000000   \n",
            "max              112489.260000        2.000000         4.000000   \n",
            "\n",
            "       Employment Status Index         Income  Location Index  \\\n",
            "count              9134.000000    9134.000000     9134.000000   \n",
            "mean                  0.988395   50837.478432        0.979089   \n",
            "std                   0.907454   41012.876153        0.605732   \n",
            "min                   0.000000       0.000000        0.000000   \n",
            "25%                   0.000000       0.000000        1.000000   \n",
            "50%                   1.000000   45751.000000        1.000000   \n",
            "75%                   1.000000   84132.000000        1.000000   \n",
            "max                   4.000000  134974.000000        2.000000   \n",
            "\n",
            "       Marital Status Index  Monthly Premium Auto  Months Since Last Claim  \\\n",
            "count           9134.000000           9134.000000              9134.000000   \n",
            "mean               0.879790            125.876396                20.394022   \n",
            "std                0.636838             46.468606                13.633576   \n",
            "min                0.000000             82.000000                 0.000000   \n",
            "25%                0.000000             92.000000                 8.000000   \n",
            "50%                1.000000            112.000000                19.000000   \n",
            "75%                1.000000            147.000000                31.000000   \n",
            "max                2.000000            402.000000                47.000000   \n",
            "\n",
            "       Months Since Policy Inception  Number of Open Complaints  \\\n",
            "count                    9134.000000                9134.000000   \n",
            "mean                       64.912853                   0.384388   \n",
            "std                        37.688818                   0.910384   \n",
            "min                         0.000000                   0.000000   \n",
            "25%                        32.000000                   0.000000   \n",
            "50%                        65.000000                   0.000000   \n",
            "75%                        96.000000                   0.000000   \n",
            "max                       134.000000                   5.000000   \n",
            "\n",
            "       Number of Policies  Policy Type Index  Policy Index  Renew Offer Type  \\\n",
            "count         9134.000000        9134.000000   9134.000000       9134.000000   \n",
            "mean             2.966170           0.298226      2.214692          1.970221   \n",
            "std              2.390182           0.540451      1.782244          1.007576   \n",
            "min              1.000000           0.000000      0.000000          1.000000   \n",
            "25%              1.000000           0.000000      1.000000          1.000000   \n",
            "50%              2.000000           0.000000      2.000000          2.000000   \n",
            "75%              4.000000           1.000000      3.000000          3.000000   \n",
            "max              9.000000           2.000000      8.000000          4.000000   \n",
            "\n",
            "       Sales Channel Index  Total Claim Amount  Vehicle Class Index  \\\n",
            "count          9134.000000         9134.000000          9134.000000   \n",
            "mean              1.622071          586.019914             1.552660   \n",
            "std               0.954878          392.175143             1.455202   \n",
            "min               0.000000            0.130000             0.000000   \n",
            "25%               1.000000          367.545000             1.000000   \n",
            "50%               2.000000          518.325000             1.000000   \n",
            "75%               2.000000          739.147500             2.000000   \n",
            "max               3.000000         3905.870000             5.000000   \n",
            "\n",
            "       Vehicle Size Index  \n",
            "count         9134.000000  \n",
            "mean             0.910444  \n",
            "std              0.537313  \n",
            "min              0.000000  \n",
            "25%              1.000000  \n",
            "50%              1.000000  \n",
            "75%              1.000000  \n",
            "max              2.000000  \n"
          ]
        }
      ]
    },
    {
      "cell_type": "markdown",
      "source": [
        "##Check for Duplicates"
      ],
      "metadata": {
        "id": "bbNDL3Ohleq8"
      }
    },
    {
      "cell_type": "code",
      "source": [
        "print(df.duplicated().sum())"
      ],
      "metadata": {
        "colab": {
          "base_uri": "https://localhost:8080/"
        },
        "id": "AJJ4CsNzlAg7",
        "outputId": "b05c50fa-b874-44e6-ff52-def9c9a1face"
      },
      "execution_count": null,
      "outputs": [
        {
          "output_type": "stream",
          "name": "stdout",
          "text": [
            "0\n"
          ]
        }
      ]
    },
    {
      "cell_type": "markdown",
      "source": [
        "## Data Cleaning &  Preprocessing"
      ],
      "metadata": {
        "id": "ZSNwPou9DKpi"
      }
    },
    {
      "cell_type": "code",
      "source": [
        "df.fillna(df.median(numeric_only=True), inplace=True)"
      ],
      "metadata": {
        "id": "zcYplj7jDIuf"
      },
      "execution_count": null,
      "outputs": []
    },
    {
      "cell_type": "code",
      "source": [
        "df.fillna(df.mode().iloc[0], inplace=True)"
      ],
      "metadata": {
        "id": "WAUhTyAPFaOr"
      },
      "execution_count": null,
      "outputs": []
    },
    {
      "cell_type": "code",
      "source": [
        "df.drop_duplicates(inplace=True)"
      ],
      "metadata": {
        "id": "UG8yY58NFev3"
      },
      "execution_count": null,
      "outputs": []
    },
    {
      "cell_type": "markdown",
      "source": [
        "##Question 1. What factors increase the likelihood of a claim?"
      ],
      "metadata": {
        "id": "YEyFO69dF5fW"
      }
    },
    {
      "cell_type": "code",
      "source": [
        "\n",
        "\n",
        "# Prepare target variable assuming 'Response' column indicates if a claim occurred,\n",
        "# mapping 'Yes' to 1 and 'No' to 0 (adjust if needed)\n",
        "df['Response_binary'] = df['Response'].map({'Yes': 1, 'No': 0})\n",
        "\n",
        "# Drop non-predictive columns (e.g. original Response, Customer ID) if present\n",
        "X = df.drop(['Response', 'Response_binary', 'Customer'], axis=1, errors='ignore')\n",
        "y = df['Response_binary']\n",
        "\n",
        "# One-hot encode categorical variables\n",
        "X_encoded = pd.get_dummies(X, drop_first=True)\n",
        "\n",
        "# Scale features\n",
        "scaler = StandardScaler()\n",
        "X_scaled = scaler.fit_transform(X_encoded)\n",
        "\n",
        "# Build and fit logistic regression model\n",
        "model = LogisticRegression(max_iter=1000)\n",
        "model.fit(X_scaled, y)\n",
        "\n",
        "# Extract coefficients and create a feature importance dataframe\n",
        "coeffs = model.coef_[0]\n",
        "features = X_encoded.columns\n",
        "feature_importance = pd.DataFrame({'Feature': features, 'Coefficient': coeffs})\n",
        "feature_importance['abs_coeff'] = feature_importance['Coefficient'].abs()\n",
        "feature_importance = feature_importance.sort_values('abs_coeff', ascending=False)\n",
        "\n",
        "print(\"Features increasing the likelihood of a claim using logistic regression):\")\n",
        "print(feature_importance[['Feature', 'Coefficient']].to_string(index=False))\n"
      ],
      "metadata": {
        "colab": {
          "base_uri": "https://localhost:8080/"
        },
        "id": "de9oYM-tGCJg",
        "outputId": "f7b21453-6fdb-4b89-f0f8-4b5259d8d285"
      },
      "execution_count": null,
      "outputs": [
        {
          "output_type": "stream",
          "name": "stdout",
          "text": [
            "Features increasing the likelihood of a claim using logistic regression):\n",
            "                        Feature  Coefficient\n",
            "      Effective To Date_1/22/11    -0.652307\n",
            "               Renew Offer Type    -0.607987\n",
            "     Effective To Date_4/1/2024    -0.588192\n",
            "              Location_Suburban     0.551681\n",
            "      Employment Status_Retired     0.466351\n",
            "             Total Claim Amount    -0.374875\n",
            "           Monthly Premium Auto     0.268144\n",
            "    Effective To Date_11/2/2024    -0.256212\n",
            "                         Income     0.240617\n",
            "     Effective To Date_4/2/2024    -0.226843\n",
            "           Sales Channel_Branch    -0.225106\n",
            "                 Location Index     0.212833\n",
            "      Sales Channel_Call Center    -0.212005\n",
            "                 Location_Urban    -0.181065\n",
            "     Effective To Date_2/2/2024    -0.175930\n",
            "      Effective To Date_1/26/11     0.167236\n",
            "      Effective To Date_1/31/11     0.162036\n",
            "     Effective To Date_9/1/2024    -0.138631\n",
            "           Marital Status Index     0.136009\n",
            "               Education_Doctor     0.135257\n",
            "      Effective To Date_2/15/11    -0.134757\n",
            "   Employment Status_Unemployed    -0.130013\n",
            "      Effective To Date_1/23/11    -0.124814\n",
            "      Effective To Date_1/28/11     0.124061\n",
            "             Vehicle Size Index     0.122772\n",
            "      Effective To Date_2/19/11     0.120464\n",
            "    Effective To Date_11/1/2024     0.119511\n",
            "      Effective To Date_1/17/11    -0.106493\n",
            "        Customer Lifetime Value    -0.103509\n",
            "               Education_Master     0.102943\n",
            "         Marital Status_Married    -0.102431\n",
            "      Effective To Date_1/19/11     0.098474\n",
            "              Education_College     0.096812\n",
            "      Effective To Date_1/21/11     0.094171\n",
            "              Sales Channel_Web    -0.089541\n",
            "      Effective To Date_1/14/11     0.085003\n",
            "            Sales Channel Index     0.084357\n",
            "             Number of Policies    -0.082824\n",
            "             Vehicle Size_Small    -0.080448\n",
            "      Effective To Date_1/27/11     0.079273\n",
            "     Effective To Date_3/2/2024     0.078243\n",
            "      Number of Open Complaints    -0.073627\n",
            "      Effective To Date_2/14/11     0.070333\n",
            "    Effective To Date_10/1/2024     0.069168\n",
            "       Vehicle Class_Luxury Car    -0.067718\n",
            "     Effective To Date_8/1/2024    -0.067098\n",
            "      Effective To Date_2/21/11    -0.066306\n",
            "      Effective To Date_2/25/11    -0.064271\n",
            "       Vehicle Class_Sports Car     0.063603\n",
            "     Effective To Date_1/2/2024     0.062424\n",
            "     Employment Status_Employed     0.061361\n",
            "     Effective To Date_7/2/2024    -0.059975\n",
            "      Effective To Date_1/20/11     0.059254\n",
            "      Effective To Date_1/25/11    -0.059110\n",
            "Employment Status_Medical Leave     0.055548\n",
            "      Effective To Date_2/17/11     0.055456\n",
            "      Effective To Date_1/16/11    -0.054974\n",
            "     Effective To Date_5/2/2024     0.054052\n",
            "    Effective To Date_12/1/2024     0.050511\n",
            "     Effective To Date_7/1/2024     0.050024\n",
            "     Effective To Date_3/1/2024     0.049448\n",
            "      Effective To Date_2/22/11    -0.049126\n",
            "              Policy_Special L3     0.048657\n",
            "     Effective To Date_9/2/2024    -0.048248\n",
            "     Effective To Date_5/1/2024     0.047321\n",
            "      Effective To Date_2/20/11     0.047157\n",
            "    Effective To Date_12/2/2024    -0.046022\n",
            "      Effective To Date_2/26/11     0.045106\n",
            "             Policy_Personal L3    -0.043821\n",
            "     Effective To Date_6/2/2024    -0.043457\n",
            "      Effective To Date_2/16/11    -0.042143\n",
            "      Effective To Date_2/24/11    -0.041524\n",
            "  Months Since Policy Inception    -0.040935\n",
            "          Marital Status_Single    -0.040603\n",
            "             Policy_Personal L1     0.039631\n",
            "      Effective To Date_2/27/11     0.038216\n",
            "      Effective To Date_2/28/11     0.037258\n",
            "        Employment Status Index     0.036208\n",
            "      Effective To Date_1/29/11    -0.034467\n",
            " Education_High School or Below     0.034262\n",
            "     Effective To Date_8/2/2024    -0.033424\n",
            "            Policy_Corporate L2     0.033190\n",
            "     Effective To Date_6/1/2024    -0.031373\n",
            "              Vehicle Class_SUV     0.030728\n",
            "                 Coverage Index    -0.030295\n",
            "              Coverage_Extended    -0.030070\n",
            "             Policy_Personal L2     0.028910\n",
            "              Policy_Special L2    -0.027001\n",
            "              Policy_Special L1     0.025929\n",
            "            Policy_Corporate L3     0.025314\n",
            "       Policy Type_Special Auto     0.023868\n",
            "     Vehicle Class_Two-Door Car     0.023574\n",
            "      Effective To Date_1/24/11    -0.023092\n",
            "      Effective To Date_2/23/11    -0.022837\n",
            "      Effective To Date_1/30/11     0.019076\n",
            "               State_Washington    -0.018247\n",
            "       Vehicle Class_Luxury SUV    -0.017951\n",
            "      Effective To Date_2/18/11    -0.016772\n",
            "      Effective To Date_1/18/11     0.013064\n",
            "    Effective To Date_10/2/2024    -0.012397\n",
            "               Coverage_Premium    -0.010619\n",
            "      Policy Type_Personal Auto     0.010456\n",
            "                   State_Oregon     0.009836\n",
            "            Vehicle Class Index     0.009158\n",
            "      Effective To Date_1/13/11     0.008119\n",
            "     Effective To Date_2/1/2024     0.007816\n",
            "        Months Since Last Claim    -0.007565\n",
            "                       Gender_M     0.007344\n",
            "           Vehicle Size_Medsize    -0.005363\n",
            "      Effective To Date_1/15/11     0.004058\n",
            "                Education Index     0.004052\n",
            "      Effective To Date_2/13/11     0.003475\n",
            "               State_California    -0.002886\n",
            "                   State_Nevada    -0.002698\n",
            "                   Policy Index     0.001758\n",
            "              Policy Type Index     0.000344\n"
          ]
        }
      ]
    },
    {
      "cell_type": "markdown",
      "source": [
        "##The Top 5 Features with the Highest Coefficients that are Most Influential in Predicting Claim."
      ],
      "metadata": {
        "id": "aqI6EV34Ii5q"
      }
    },
    {
      "cell_type": "code",
      "source": [
        "top_5 = feature_importance.head(5)\n",
        "print (\"Top 5 impactful features with highest coefficients:\")\n",
        "print(top_5[['Feature', 'Coefficient']].to_string(index=False))"
      ],
      "metadata": {
        "colab": {
          "base_uri": "https://localhost:8080/"
        },
        "id": "z_3_pzjpIvEs",
        "outputId": "6fc17052-ce2b-4987-e589-17a5eac0c79f"
      },
      "execution_count": null,
      "outputs": [
        {
          "output_type": "stream",
          "name": "stdout",
          "text": [
            "Top 5 impactful features with highest coefficients:\n",
            "                   Feature  Coefficient\n",
            " Effective To Date_1/22/11    -0.652307\n",
            "          Renew Offer Type    -0.607987\n",
            "Effective To Date_4/1/2024    -0.588192\n",
            "         Location_Suburban     0.551681\n",
            " Employment Status_Retired     0.466351\n"
          ]
        }
      ]
    },
    {
      "cell_type": "markdown",
      "source": [
        "#Conclusion\n",
        "The positive coefficients show that as the feature increases the claim increases. The negative coefficients show that as the feature increases the claim decreases.\n",
        "\n",
        "Both large negative and positive coefficents means that theres a increase in the predictor."
      ],
      "metadata": {
        "id": "JAzkzlsfJxAO"
      }
    },
    {
      "cell_type": "markdown",
      "source": [
        "##Question 2. Can we identify fradulent claims?"
      ],
      "metadata": {
        "id": "50IT4QIfnJOR"
      }
    },
    {
      "cell_type": "code",
      "source": [
        "\n",
        "# Select numeric features for anomaly deetection\n",
        "numeric_cols = df.select_dtypes(include=['int64', 'float64']).columns\n",
        "X_numeric = df[numeric_cols].fillna(0)\n",
        "\n",
        "# Scale the feature\n",
        "scaler = StandardScaler()\n",
        "X_scaled = scaler.fit_transform(X_numeric)\n",
        "\n",
        "\n",
        "# Input the Isolation Forest model\n",
        "iso_forest = IsolationForest(contamination=0.01, random_state=42)\n",
        "df['anomaly'] = iso_forest.fit_predict(X_scaled)\n",
        "\n",
        "\n",
        "# Marking any Anomalies as potential fraud where 1 = normal and -1 for anomalies\n",
        "df['potential_fraud'] = df['anomaly'].apply(lambda x: 1 if x == -1 else 0)\n",
        "\n",
        "#Filtered the rows that equal 1 as potential fraud\n",
        "fraudulent_rows = df[df['potential_fraud'] == 1]\n",
        "\n",
        "print('Rows that are flagged as potential fraud:')\n",
        "print(fraudulent_rows.head(10))\n",
        "\n",
        "print('Total number of potential fraudulent claims:', len(fraudulent_rows))\n"
      ],
      "metadata": {
        "colab": {
          "base_uri": "https://localhost:8080/"
        },
        "id": "P37_b0ZmKKB9",
        "outputId": "e9a0f42d-47e5-45f7-ab02-b318d3affac2"
      },
      "execution_count": null,
      "outputs": [
        {
          "output_type": "stream",
          "name": "stdout",
          "text": [
            "Rows that are flagged as potential fraud:\n",
            "    Customer       State  Customer Lifetime Value Response  Coverage  \\\n",
            "24   EF87528     Arizona                  6259.34      Yes     Basic   \n",
            "230  NM77390      Nevada                 11066.91       No     Basic   \n",
            "256  XF89906     Arizona                 78579.62       No  Extended   \n",
            "322  FG29932  California                 10584.22      Yes  Extended   \n",
            "330  OZ19432      Nevada                  5904.95       No   Premium   \n",
            "386  MT27589      Oregon                 10584.22      Yes  Extended   \n",
            "422  WO81184  California                  6820.72       No     Basic   \n",
            "594  QK82654  California                 26797.14       No   Premium   \n",
            "672  FX26050      Oregon                 30661.23       No     Basic   \n",
            "705  AT26484      Nevada                  5154.93       No   Premium   \n",
            "\n",
            "     Coverage Index             Education  Education Index Effective To Date  \\\n",
            "24                0               College                1          1/1/2024   \n",
            "230               0  High School or Below                0           1/13/11   \n",
            "256               1  High School or Below                0           1/13/11   \n",
            "322               1               College                1           1/14/11   \n",
            "330               2  High School or Below                0           1/14/11   \n",
            "386               1               College                1           1/14/11   \n",
            "422               0              Bachelor                2           1/14/11   \n",
            "594               2               College                1           1/15/11   \n",
            "672               0                Doctor                4           1/16/11   \n",
            "705               2               College                1           1/16/11   \n",
            "\n",
            "    Employment Status  ...  Sales Channel Sales Channel Index  \\\n",
            "24            Retired  ...          Agent                   2   \n",
            "230          Employed  ...          Agent                   2   \n",
            "256          Disabled  ...          Agent                   2   \n",
            "322          Employed  ...          Agent                   2   \n",
            "330          Employed  ...         Branch                   1   \n",
            "386          Employed  ...          Agent                   2   \n",
            "422          Employed  ...          Agent                   2   \n",
            "594        Unemployed  ...          Agent                   2   \n",
            "672          Disabled  ...          Agent                   2   \n",
            "705          Employed  ...            Web                   0   \n",
            "\n",
            "     Total Claim Amount  Vehicle Class  Vehicle Class Index Vehicle Size  \\\n",
            "24               427.68   Two-Door Car                    0      Medsize   \n",
            "230              782.61            SUV                    4      Medsize   \n",
            "256             1793.93     Luxury SUV                    5        Large   \n",
            "322             1360.80     Luxury SUV                    5        Small   \n",
            "330               57.98  Four-Door Car                    1      Medsize   \n",
            "386             1360.80     Luxury SUV                    5        Small   \n",
            "422              297.60   Two-Door Car                    0        Large   \n",
            "594             2779.92     Luxury SUV                    5        Small   \n",
            "672               91.83   Two-Door Car                    0      Medsize   \n",
            "705              831.61  Four-Door Car                    1        Small   \n",
            "\n",
            "     Vehicle Size Index  Response_binary  anomaly  potential_fraud  \n",
            "24                    1                1       -1                1  \n",
            "230                   1                0       -1                1  \n",
            "256                   2                0       -1                1  \n",
            "322                   0                1       -1                1  \n",
            "330                   1                0       -1                1  \n",
            "386                   0                1       -1                1  \n",
            "422                   2                0       -1                1  \n",
            "594                   0                0       -1                1  \n",
            "672                   1                0       -1                1  \n",
            "705                   0                0       -1                1  \n",
            "\n",
            "[10 rows x 37 columns]\n",
            "Total number of potential fraudulent claims: 92\n"
          ]
        }
      ]
    },
    {
      "cell_type": "markdown",
      "source": [
        "#Conclusion"
      ],
      "metadata": {
        "id": "2C7aAFm5UnNj"
      }
    },
    {
      "cell_type": "markdown",
      "source": [
        "We selected all numeric columns for anomaly detection. The feature were scaled using Isolation forest with a 1% contamination rate to flag rows that look suspiscious. I labled the rows as -1 as potential fraud and 1 as normal. Then it prints out a subset of records flagged as potential fraud and the total number of cases in csv. The amount of potential fraudlent claims is 92.  \n"
      ],
      "metadata": {
        "id": "cxnFLpPgUVg2"
      }
    },
    {
      "cell_type": "markdown",
      "source": [
        "##Question 3. How do claims amounts vary by customer segments?"
      ],
      "metadata": {
        "id": "dBGYFwUBWEyt"
      }
    },
    {
      "cell_type": "code",
      "source": [
        "# Sample segmentation: by Gender, Martial Status, and Education\n",
        "segments = ['Gender', 'Marital Status', 'Education']\n",
        "\n",
        "# Plot average Total Claim Amount for each segment\n",
        "fig, axes = plt.subplots(1, len(segments), figsize=(5 * len(segments), 4))\n",
        "\n",
        "for i, seg in enumerate(segments):\n",
        "    # Group by the segment and calculate average claim amount\n",
        "    seg_data = df.groupby(seg)['Total Claim Amount'].mean().reset_index()\n",
        "\n",
        "    # Create a barplot for each segment\n",
        "    sns.barplot(x=seg, y='Total Claim Amount', data=seg_data, ax=axes[i])\n",
        "    axes[i].set_title('Avg Claim Amount by ' + seg)\n",
        "    axes[i].set_ylabel('Average Claim Amount')\n",
        "    axes[i].set_xlabel(seg)\n",
        "    axes[i].ticklabel_format(style='plain', axis='y')\n",
        "\n",
        "plt.tight_layout()\n",
        "plt.show()\n",
        "\n",
        "\n",
        "# Additionally, print the grouped means for reference\n",
        "for seg in segments:\n",
        "    print(\"Average Total Claim Amount by\", seg)\n",
        "    print(df.groupby(seg)['Total Claim Amount'].mean(), \"\\n\")"
      ],
      "metadata": {
        "colab": {
          "base_uri": "https://localhost:8080/",
          "height": 606
        },
        "id": "1zm_WkxxWbne",
        "outputId": "7dfc7fa5-9a4d-4527-f294-dadcd3648e71"
      },
      "execution_count": null,
      "outputs": [
        {
          "output_type": "display_data",
          "data": {
            "text/plain": [
              "<Figure size 1500x400 with 3 Axes>"
            ],
            "image/png": "[encoded data removed]"
          },
          "metadata": {}
        },
        {
          "output_type": "stream",
          "name": "stdout",
          "text": [
            "Average Total Claim Amount by Gender\n",
            "Gender\n",
            "F    557.356243\n",
            "M    615.849086\n",
            "Name: Total Claim Amount, dtype: float64 \n",
            "\n",
            "Average Total Claim Amount by Marital Status\n",
            "Marital Status\n",
            "Divorced    545.001454\n",
            "Married     519.098048\n",
            "Single      752.499976\n",
            "Name: Total Claim Amount, dtype: float64 \n",
            "\n",
            "Average Total Claim Amount by Education\n",
            "Education\n",
            "Bachelor                577.791910\n",
            "College                 572.147564\n",
            "Doctor                  456.551988\n",
            "High School or Below    657.706133\n",
            "Master                  472.820297\n",
            "Name: Total Claim Amount, dtype: float64 \n",
            "\n"
          ]
        }
      ]
    },
    {
      "cell_type": "markdown",
      "source": [
        "#Conclusion"
      ],
      "metadata": {
        "id": "_fl5qq87gGTw"
      }
    },
    {
      "cell_type": "markdown",
      "source": [
        "This question focuses on customer segments, Gender, Marital Status, and Education. Each segments has an average claim amount and shows a visualization. This helped target patterns for risk management."
      ],
      "metadata": {
        "id": "UpTuLGdGgZOd"
      }
    },
    {
      "cell_type": "markdown",
      "source": [
        "#Project Conclusion"
      ],
      "metadata": {
        "id": "eX8V0lUd8Ryc"
      }
    },
    {
      "cell_type": "markdown",
      "source": [
        "This project provided actionable insights. The modeling indicates which features drive claim probabilities and fraud detection and segmentation provides understanding. These findings can help insurance coompanies refine their risk assessments, improve fraud detection, and design customer policies."
      ],
      "metadata": {
        "id": "G0PQQCKd8WGw"
      }
    },
    {
      "cell_type": "markdown",
      "source": [
        "#Key Findings"
      ],
      "metadata": {
        "id": "Nr-Buq7eE3Md"
      }
    },
    {
      "cell_type": "markdown",
      "source": [
        "# **Q1.** **The Factors Increasing Claim Likelihood:**\n",
        "\n",
        "I used logistic regression to identify the factors effective dates, renew offer types, location (Suburban), employment status (Retired), monthly premium auto, and income are among the top contributors to increasing the likelihood of a claim.\n",
        "\n",
        "# **Q2.** **The Fraud Detection:**\n",
        "\n",
        "I applied the Isolation Forest algorithm to detect fraud in claims which resulted in finding 92 claims that were flagged as potential fraud cases.\n",
        "\n",
        "# **Q3.** **The Claims Amounts by Customer Segments:**\n",
        "\n",
        "**Gender:** I analyzed Males to find that they have a higher average claim amount of 615.85 compared to Females who average 557.36.\n",
        "\n",
        "**Martial Status:** I analyzed Single customers to find that they have the highest average claim amount of 752.50 while Divorce has 545.00 and Married has 519.10 customers.\n",
        "\n",
        "**Education:** I analyzed customers with High school or Below education to find that they have the highest average claim amount of 657.71. In contrast, customers with Master's degrees have the lowest average of 472.82.  \n",
        "\n",
        "\n",
        "#**Insights and Conclusions:**\n",
        "\n",
        "The logistic regression findings help improve pricing and risk assessment methods.\n",
        "\n",
        "The fraud detection analysis helps minimize fraudulent claims.\n",
        "\n",
        "The customer segment analysis suggests that targeted policy designs might be useful to better suit the various demands and risk profiles of different populations.  \n"
      ],
      "metadata": {
        "id": "H5D2AAJpE8OX"
      }
    }
  ]
}